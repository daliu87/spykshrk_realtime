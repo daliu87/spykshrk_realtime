{
 "cells": [
  {
   "cell_type": "code",
   "execution_count": 1,
   "metadata": {},
   "outputs": [],
   "source": [
    "# This snippet of code properly adds the working source root path to python's path\n",
    "# so you no longer have to install spykshrk through setuptools\n",
    "import sys, os\n",
    "root_depth = 2\n",
    "notebook_dir = globals()['_dh'][0]\n",
    "root_path = os.path.abspath(os.path.join(notebook_dir, '../'*root_depth))\n",
    "# Add to python's path\n",
    "try:\n",
    "    while True:\n",
    "        sys.path.remove(root_path)\n",
    "except ValueError:\n",
    "    # no more root paths\n",
    "    pass\n",
    "sys.path.append(root_path)\n",
    "# Alternatively set root path as current working directory\n",
    "#os.chdir(root_path)"
   ]
  },
  {
   "cell_type": "code",
   "execution_count": 3,
   "metadata": {},
   "outputs": [],
   "source": [
    "import scipy as sp\n",
    "import numpy as np\n",
    "import pandas as pd\n",
    "from spykshrk.franklab.data_containers import FlatLinearPosition, SpikeFeatures, \\\n",
    "        EncodeSettings, pos_col_format, SpikeObservation\n",
    "from spykshrk.franklab.pp_decoder.util import normal_pdf_int_lookup, gaussian\n",
    "from spykshrk.util import AttrDict\n",
    "import holoviews as hv\n",
    "hv.extension('bokeh', 'matplotlib')"
   ]
  },
  {
   "cell_type": "code",
   "execution_count": 4,
   "metadata": {},
   "outputs": [],
   "source": [
    "encode_settings = AttrDict(pos_kernel_std=2, mark_kernel_std=10, pos_bins=np.arange(0, 40, 1))\n",
    "\n",
    "spk_time = [1, 2, 3, 10, 11]\n",
    "spk_marks = [[30, 30, 30, 30], \n",
    "             [40, 40, 40, 40], \n",
    "             [35, 35, 35, 35],\n",
    "             [30, 30, 30, 30],\n",
    "             [31, 31, 31, 31]]\n",
    "mark_columns = ['c00', 'c01', 'c02', 'c03']\n",
    "linpos_flat_obj = pd.DataFrame((1, 2, 3, 30, 31), index=spk_time, columns=['linpos_flat'])\n",
    "enc_spk = pd.DataFrame(spk_marks, index=spk_time, columns=mark_columns)\n",
    "dec_spk = pd.DataFrame(spk_marks, index=spk_time, columns=mark_columns)\n"
   ]
  },
  {
   "cell_type": "code",
   "execution_count": 5,
   "metadata": {},
   "outputs": [],
   "source": [
    "pos_distrib_tet = sp.stats.norm.pdf(np.expand_dims(encode_settings.pos_bins, 0),\n",
    "                                    np.expand_dims(linpos_flat_obj['linpos_flat'], 1),\n",
    "                                    encode_settings.pos_kernel_std)\n",
    "mark_contrib = normal_pdf_int_lookup(np.expand_dims(dec_spk[mark_columns], 1),\n",
    "                                     np.expand_dims(enc_spk, 0),\n",
    "                                     encode_settings.mark_kernel_std)\n",
    "all_contrib = np.prod(mark_contrib, axis=2)\n",
    "observ = np.matmul(all_contrib, pos_distrib_tet)"
   ]
  },
  {
   "cell_type": "code",
   "execution_count": 6,
   "metadata": {},
   "outputs": [],
   "source": [
    "mark_contrib.shape"
   ]
  },
  {
   "cell_type": "code",
   "execution_count": 16,
   "metadata": {},
   "outputs": [],
   "source": [
    "observ.shape"
   ]
  },
  {
   "cell_type": "code",
   "execution_count": 55,
   "metadata": {},
   "outputs": [],
   "source": [
    "hv.Image(pos_distrib_tet, bounds=[encode_settings.pos_bins[0], 0, encode_settings.pos_bins[-1], len(spk_marks)])"
   ]
  },
  {
   "cell_type": "code",
   "execution_count": 52,
   "metadata": {},
   "outputs": [],
   "source": [
    "len(spk_marks)"
   ]
  }
 ],
 "metadata": {
  "git": {
   "suppress_outputs": true
  },
  "kernelspec": {
   "display_name": "Python 3",
   "language": "python",
   "name": "python3"
  },
  "language_info": {
   "codemirror_mode": {
    "name": "ipython",
    "version": 3
   },
   "file_extension": ".py",
   "mimetype": "text/x-python",
   "name": "python",
   "nbconvert_exporter": "python",
   "pygments_lexer": "ipython3",
   "version": "3.7.3"
  }
 },
 "nbformat": 4,
 "nbformat_minor": 4
}