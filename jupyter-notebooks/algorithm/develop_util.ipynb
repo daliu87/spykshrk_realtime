{
 "cells": [
  {
   "cell_type": "code",
   "execution_count": 1,
   "metadata": {},
   "outputs": [],
   "source": [
    "# This snippet of code properly adds the working source root path to python's path\n",
    "# so you no longer have to install spykshrk through setuptools\n",
    "import sys, os\n",
    "root_depth = 2\n",
    "notebook_dir = globals()['_dh'][0]\n",
    "root_path = os.path.abspath(os.path.join(notebook_dir, '../'*root_depth))\n",
    "# Add to python's path\n",
    "try:\n",
    "    while True:\n",
    "        sys.path.remove(root_path)\n",
    "except ValueError:\n",
    "    # no more root paths\n",
    "    pass\n",
    "sys.path.append(root_path)\n",
    "# Alternatively set root path as current working directory\n",
    "#os.chdir(root_path)"
   ]
  },
  {
   "cell_type": "code",
   "execution_count": 2,
   "metadata": {},
   "outputs": [],
   "source": [
    "import enum\n",
    "import collections\n",
    "import copy\n",
    "import pprint\n",
    "import numpy as np\n",
    "import IPython\n",
    "import IPython.lib\n",
    "\n",
    "plain_formatter = get_ipython().display_formatter.formatters['text/plain']\n",
    "plain_formatter.max_width=160\n",
    "plain_formatter.max_seq_length=20\n",
    "\n",
    "np.set_printoptions(precision=4, linewidth=80, threshold=20, edgeitems=5)\n"
   ]
  },
  {
   "cell_type": "code",
   "execution_count": 3,
   "metadata": {},
   "outputs": [],
   "source": [
    "plain_formatter.__dir__"
   ]
  },
  {
   "cell_type": "code",
   "execution_count": 17,
   "metadata": {},
   "outputs": [],
   "source": [
    "class AttrDict(collections.UserDict):\n",
    "    def __init__(self, *args, **kwargs):\n",
    "        super().__init__(*args, **kwargs)\n",
    "\n",
    "    def __setattr__(self, key, value):\n",
    "        super().__setattr__(key, value)\n",
    "        if hasattr(self, 'data') and (key is not 'data'):\n",
    "\n",
    "            self.data[key] = value\n",
    "\n",
    "    def __getattribute__(self, item):\n",
    "        try:\n",
    "            return super().__getattribute__(item)\n",
    "        except AttributeError:\n",
    "            try:\n",
    "                return self[item]\n",
    "            except KeyError:\n",
    "                raise AttributeError(item)\n",
    "\n",
    "    def __getitem__(self, key):\n",
    "        if hasattr(self, 'data'):\n",
    "            return super().__getitem__(key)\n",
    "\n",
    "    def __getstate__(self):\n",
    "        return self.data\n",
    "\n",
    "    def __setstate__(self, state):\n",
    "        self.data = state\n",
    "    \n",
    "    def _repr_pretty_(self, pp, cycle):\n",
    "        if cycle:\n",
    "            pp.text(f'{type(self).__name__}(...)')\n",
    "        else:\n",
    "            with pp.group(1, '{', '}'):\n",
    "            #with pp.group(len(type(self).__name__)+2, f'{type(self).__name__}({{', '})'):\n",
    "                for idx, (key, val) in enumerate(self.data.items()):\n",
    "                    if idx is not 0:\n",
    "                        pp.text(',')\n",
    "                        pp.breakable()\n",
    "                    pp.text(str(key) + ': ')\n",
    "                    with pp.indent(len(str(key)) + 2):\n",
    "                        if (isinstance(val, collections.abc.Sequence) and not\n",
    "                            isinstance(val, (str, bytes, bytearray, memoryview))):\n",
    "                            with pp.group(1, '[', ']'):\n",
    "                                if len(val) > pp.max_seq_length:\n",
    "                                    short_val = val[0:int(pp.max_seq_length/2)] + val[-int(pp.max_seq_length/2):]\n",
    "                                else:\n",
    "                                    short_val = val\n",
    "                                for ent_ii, ent in enumerate(short_val):\n",
    "                                    if (len(val) > pp.max_seq_length) and (ent_ii == int(pp.max_seq_length/2)):\n",
    "                                        if pp.output_width + 6 > pp.max_width:\n",
    "                                            pp.breakable()\n",
    "                                        pp.text(', ... ')\n",
    "                                        \n",
    "                                    if (isinstance(ent, collections.abc.Collection) and not \n",
    "                                        isinstance(ent, (str, bytes, bytearray, memoryview))):\n",
    "                                        if ent_ii is not 0:\n",
    "                                            pp.text(',')\n",
    "                                            pp.breakable()\n",
    "                                        pp.pretty(ent)\n",
    "                                        was_last_coll = True\n",
    "                                    else:\n",
    "                                        if ent_ii is not 0:\n",
    "                                            pp.text(', ')\n",
    "                                            if pp.output_width + len(str(ent)) > pp.max_width:\n",
    "                                                pp.breakable()\n",
    "                                            elif was_last_coll:\n",
    "                                                pp.breakable()\n",
    "                                        was_last_coll = False\n",
    "                                        pp.pretty(ent)\n",
    "                        elif isinstance(val, (str, bytes, bytearray, memoryview)):\n",
    "                            pp.pretty(val)\n",
    "                        elif isinstance(val, (np.ndarray, np.generic)):\n",
    "                            #pp.output_width += np.get_printoptions()['linewidth']\n",
    "                            pp.pretty(val)\n",
    "                        else:\n",
    "                            pp.pretty(val)\n",
    "            #pp.breakable()\n",
    "                \n",
    "    def __repr__(self):\n",
    "        return f\"{type(self).__name__}({self.data})\""
   ]
  },
  {
   "cell_type": "code",
   "execution_count": 5,
   "metadata": {},
   "outputs": [],
   "source": [
    "l = [10,20,30,40,50]\n",
    "l+[60]\n",
    "l"
   ]
  },
  {
   "cell_type": "code",
   "execution_count": 15,
   "metadata": {},
   "outputs": [],
   "source": [
    "collections.abc.Collection?"
   ]
  },
  {
   "cell_type": "code",
   "execution_count": 18,
   "metadata": {},
   "outputs": [],
   "source": [
    "AttrDict({'int': 1000,\n",
    "          'float': 12.34,\n",
    "          'list': list(range(50)),\n",
    "          'str': 'test_string',\n",
    "          'long str': ', '.join(['a']*100),\n",
    "          'list str': ['test'],\n",
    "          'list str 2': [', '.join(['a']*50)]*2,\n",
    "          'list str 3': ['a']*100,\n",
    "          'list_str 4': ['list']*100,\n",
    "          'list nest': [['first']*4, ['second']*4, ['third']*4, ['fourth']*4],\n",
    "          'np array': np.zeros(100),\n",
    "          'list np array': [np.zeros(100)]*3,\n",
    "          'AttrDict': AttrDict({'int':200, 'list': list(range(50)), 'list 2': list(range(50))}),\n",
    "          'AttrDict 2': AttrDict({'int':200, 'list': list(range(50))})})"
   ]
  },
  {
   "cell_type": "code",
   "execution_count": 150,
   "metadata": {},
   "outputs": [],
   "source": [
    "test = 'a b c' ' d e f'\n",
    "test"
   ]
  },
  {
   "cell_type": "code",
   "execution_count": 23,
   "metadata": {},
   "outputs": [],
   "source": [
    "ad = AttrDict({i:i for i in range(10)})\n",
    "ad[20] = AttrDict({i:i for i in range(10)})\n",
    "ad[20][20] = ['a']*40\n",
    "ad[20][20][25] = AttrDict({i:i for i in range(10)})\n",
    "ad"
   ]
  },
  {
   "cell_type": "code",
   "execution_count": 179,
   "metadata": {},
   "outputs": [],
   "source": [
    "d = {i:i for i in range(20)}\n",
    "d[10] = ['a'] * 20\n",
    "d[10][2] = {i:i for i in range(20)}\n",
    "pprint.pprint(d, compact=True)"
   ]
  },
  {
   "cell_type": "code",
   "execution_count": 118,
   "metadata": {},
   "outputs": [],
   "source": [
    "pprint.pprint({x:x for x in range(40)}, compact=True)"
   ]
  },
  {
   "cell_type": "code",
   "execution_count": 12,
   "metadata": {},
   "outputs": [],
   "source": [
    "ud = collections.UserDict({'key': 'one'})\n",
    "ud"
   ]
  },
  {
   "cell_type": "code",
   "execution_count": 9,
   "metadata": {},
   "outputs": [],
   "source": [
    "copy.deepcopy(ad)"
   ]
  },
  {
   "cell_type": "code",
   "execution_count": 4,
   "metadata": {},
   "outputs": [],
   "source": [
    "class AttrDictEnum(collections.UserDict):\n",
    "\n",
    "    def __init__(self, *args, **kwargs):\n",
    "        super().__init__(*args, **kwargs)\n",
    "\n",
    "    def __getitem__(self, item):\n",
    "        try:\n",
    "            return super().__getitem__(item)\n",
    "        except KeyError as kerr:\n",
    "            retval = []\n",
    "            keylist = []\n",
    "            for key, val in self.__dict__['data'].items():\n",
    "                try:\n",
    "                    if item == key.name:\n",
    "                        keylist = [key]\n",
    "                        retval.append(val)\n",
    "                except AttributeError:\n",
    "                    if item == key:\n",
    "                        keylist = [key]\n",
    "                        retval.append(val)\n",
    "            if len(retval) > 1:\n",
    "                raise KeyError('Found multiple keys, possible overlapping enums: ' + keylist)\n",
    "            elif len(retval) == 0:\n",
    "                raise KeyError(item)\n",
    "            return retval[0]\n",
    "\n",
    "    def __setitem__(self, key, value):\n",
    "        super().__setitem__(key, value)\n",
    "\n",
    "    def __getattribute__(self, item):\n",
    "        try:\n",
    "            return super().__getattribute__(item)\n",
    "        except AttributeError as attr_err:\n",
    "            try:\n",
    "                return self.__getitem__(item)\n",
    "            except KeyError as kerr:\n",
    "                raise AttributeError(*kerr.args)\n",
    "\n",
    "    def __getstate__(self):\n",
    "        return self.data\n",
    "\n",
    "    def __setstate__(self, state):\n",
    "        self.data = state\n",
    "\n",
    "    def __repr__(self):\n",
    "        return f\"{type(self).__name__}({self.data})\"\n"
   ]
  },
  {
   "cell_type": "code",
   "execution_count": 4,
   "metadata": {},
   "outputs": [],
   "source": [
    "class Test(enum.Enum):\n",
    "    one = 1\n",
    "    two = 2\n",
    "    \n",
    "d = AttrDictEnum({Test.one: 111})"
   ]
  },
  {
   "cell_type": "code",
   "execution_count": 5,
   "metadata": {},
   "outputs": [],
   "source": [
    "d.data"
   ]
  },
  {
   "cell_type": "code",
   "execution_count": 6,
   "metadata": {},
   "outputs": [],
   "source": [
    "Test.one.__str__()"
   ]
  },
  {
   "cell_type": "code",
   "execution_count": 7,
   "metadata": {},
   "outputs": [],
   "source": [
    "d[Test.two] = 2\n",
    "d.two"
   ]
  },
  {
   "cell_type": "code",
   "execution_count": 8,
   "metadata": {},
   "outputs": [],
   "source": [
    "d.items()"
   ]
  },
  {
   "cell_type": "code",
   "execution_count": 9,
   "metadata": {},
   "outputs": [],
   "source": [
    "from typing import ItemsView\n",
    "\n",
    "dv = ItemsView(d)\n",
    "dv"
   ]
  },
  {
   "cell_type": "code",
   "execution_count": 10,
   "metadata": {},
   "outputs": [],
   "source": [
    "d.__dict__"
   ]
  },
  {
   "cell_type": "code",
   "execution_count": 11,
   "metadata": {},
   "outputs": [],
   "source": [
    "dv"
   ]
  },
  {
   "cell_type": "code",
   "execution_count": 12,
   "metadata": {},
   "outputs": [],
   "source": [
    "dd = {'one': 1, 'one':2}\n",
    "it = dd.items()\n",
    "it"
   ]
  },
  {
   "cell_type": "code",
   "execution_count": null,
   "metadata": {},
   "outputs": [],
   "source": []
  }
 ],
 "metadata": {
  "git": {
   "suppress_outputs": true
  },
  "kernelspec": {
   "display_name": "Python 3",
   "language": "python",
   "name": "python3"
  },
  "language_info": {
   "codemirror_mode": {
    "name": "ipython",
    "version": 3
   },
   "file_extension": ".py",
   "mimetype": "text/x-python",
   "name": "python",
   "nbconvert_exporter": "python",
   "pygments_lexer": "ipython3",
   "version": "3.7.3"
  }
 },
 "nbformat": 4,
 "nbformat_minor": 4
}