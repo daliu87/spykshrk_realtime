{
 "cells": [
  {
   "cell_type": "code",
   "execution_count": 1,
   "metadata": {},
   "outputs": [],
   "source": [
    "# This snippet of code properly adds the working source root path to python's path\n",
    "# so you no longer have to install spykshrk through setuptools\n",
    "import sys, os\n",
    "root_depth = 2\n",
    "notebook_dir = globals()['_dh'][0]\n",
    "root_path = os.path.abspath(os.path.join(notebook_dir, '../'*root_depth))\n",
    "# Add to python's path\n",
    "try:\n",
    "    while True:\n",
    "        sys.path.remove(root_path)\n",
    "except ValueError:\n",
    "    # no more root paths\n",
    "    pass\n",
    "sys.path.append(root_path)\n",
    "# Alternatively set root path as current working directory\n",
    "#os.chdir(root_path)"
   ]
  },
  {
   "cell_type": "code",
   "execution_count": 2,
   "metadata": {},
   "outputs": [],
   "source": [
    "import enum\n",
    "import collections\n",
    "import copy\n"
   ]
  },
  {
   "cell_type": "code",
   "execution_count": 8,
   "metadata": {},
   "outputs": [],
   "source": [
    "class AttrDict(collections.UserDict):\n",
    "    def __init__(self, *args, **kwargs):\n",
    "        super().__init__(*args, **kwargs)\n",
    "\n",
    "    def __setattr__(self, key, value):\n",
    "        super().__setattr__(key, value)\n",
    "        if hasattr(self, 'data') and (key is not 'data'):\n",
    "            self.data[key] = value\n",
    "\n",
    "    def __getattribute__(self, item):\n",
    "        try:\n",
    "            return super().__getattribute__(item)\n",
    "        except AttributeError:\n",
    "            try:\n",
    "                return self.__getitem__(item)\n",
    "            except KeyError:\n",
    "                raise AttributeError(item)\n",
    "\n",
    "    def __getstate__(self):\n",
    "        return self.data\n",
    "\n",
    "    def __setstate__(self, state):\n",
    "        self.data = state\n",
    "\n",
    "    def __repr__(self):\n",
    "        return f\"{type(self).__name__}({self.data})\"\n"
   ]
  },
  {
   "cell_type": "code",
   "execution_count": 9,
   "metadata": {},
   "outputs": [],
   "source": [
    "ad = AttrDict({'key':'one'})\n",
    "ad"
   ]
  },
  {
   "cell_type": "code",
   "execution_count": 12,
   "metadata": {},
   "outputs": [],
   "source": [
    "ud = collections.UserDict({'key': 'one'})\n",
    "ud"
   ]
  },
  {
   "cell_type": "code",
   "execution_count": 9,
   "metadata": {},
   "outputs": [],
   "source": [
    "copy.deepcopy(ad)"
   ]
  },
  {
   "cell_type": "code",
   "execution_count": 4,
   "metadata": {},
   "outputs": [],
   "source": [
    "class AttrDictEnum(collections.UserDict):\n",
    "\n",
    "    def __init__(self, *args, **kwargs):\n",
    "        super().__init__(*args, **kwargs)\n",
    "\n",
    "    def __getitem__(self, item):\n",
    "        try:\n",
    "            return super().__getitem__(item)\n",
    "        except KeyError as kerr:\n",
    "            retval = []\n",
    "            keylist = []\n",
    "            for key, val in self.__dict__['data'].items():\n",
    "                try:\n",
    "                    if item == key.name:\n",
    "                        keylist = [key]\n",
    "                        retval.append(val)\n",
    "                except AttributeError:\n",
    "                    if item == key:\n",
    "                        keylist = [key]\n",
    "                        retval.append(val)\n",
    "            if len(retval) > 1:\n",
    "                raise KeyError('Found multiple keys, possible overlapping enums: ' + keylist)\n",
    "            elif len(retval) == 0:\n",
    "                raise KeyError(item)\n",
    "            return retval[0]\n",
    "\n",
    "    def __setitem__(self, key, value):\n",
    "        super().__setitem__(key, value)\n",
    "\n",
    "    def __getattribute__(self, item):\n",
    "        try:\n",
    "            return super().__getattribute__(item)\n",
    "        except AttributeError as attr_err:\n",
    "            try:\n",
    "                return self.__getitem__(item)\n",
    "            except KeyError as kerr:\n",
    "                raise AttributeError(*kerr.args)\n",
    "\n",
    "    def __getstate__(self):\n",
    "        return self.data\n",
    "\n",
    "    def __setstate__(self, state):\n",
    "        self.data = state\n",
    "\n",
    "    def __repr__(self):\n",
    "        return f\"{type(self).__name__}({self.data})\"\n"
   ]
  },
  {
   "cell_type": "code",
   "execution_count": 4,
   "metadata": {},
   "outputs": [],
   "source": [
    "class Test(enum.Enum):\n",
    "    one = 1\n",
    "    two = 2\n",
    "    \n",
    "d = AttrDictEnum({Test.one: 111})"
   ]
  },
  {
   "cell_type": "code",
   "execution_count": 5,
   "metadata": {},
   "outputs": [],
   "source": [
    "d.data"
   ]
  },
  {
   "cell_type": "code",
   "execution_count": 6,
   "metadata": {},
   "outputs": [],
   "source": [
    "Test.one.__str__()"
   ]
  },
  {
   "cell_type": "code",
   "execution_count": 7,
   "metadata": {},
   "outputs": [],
   "source": [
    "d[Test.two] = 2\n",
    "d.two"
   ]
  },
  {
   "cell_type": "code",
   "execution_count": 8,
   "metadata": {},
   "outputs": [],
   "source": [
    "d.items()"
   ]
  },
  {
   "cell_type": "code",
   "execution_count": 9,
   "metadata": {},
   "outputs": [],
   "source": [
    "from typing import ItemsView\n",
    "\n",
    "dv = ItemsView(d)\n",
    "dv"
   ]
  },
  {
   "cell_type": "code",
   "execution_count": 10,
   "metadata": {},
   "outputs": [],
   "source": [
    "d.__dict__"
   ]
  },
  {
   "cell_type": "code",
   "execution_count": 11,
   "metadata": {},
   "outputs": [],
   "source": [
    "dv"
   ]
  },
  {
   "cell_type": "code",
   "execution_count": 12,
   "metadata": {},
   "outputs": [],
   "source": [
    "dd = {'one': 1, 'one':2}\n",
    "it = dd.items()\n",
    "it"
   ]
  },
  {
   "cell_type": "code",
   "execution_count": null,
   "metadata": {},
   "outputs": [],
   "source": []
  }
 ],
 "metadata": {
  "git": {
   "suppress_outputs": true
  },
  "kernelspec": {
   "display_name": "Python 3",
   "language": "python",
   "name": "python3"
  },
  "language_info": {
   "codemirror_mode": {
    "name": "ipython",
    "version": 3
   },
   "file_extension": ".py",
   "mimetype": "text/x-python",
   "name": "python",
   "nbconvert_exporter": "python",
   "pygments_lexer": "ipython3",
   "version": "3.7.3"
  }
 },
 "nbformat": 4,
 "nbformat_minor": 4
}