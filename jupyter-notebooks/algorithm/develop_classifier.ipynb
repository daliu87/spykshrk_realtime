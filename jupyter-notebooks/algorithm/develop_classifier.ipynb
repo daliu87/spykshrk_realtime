{
 "cells": [
  {
   "cell_type": "code",
   "execution_count": 1,
   "metadata": {},
   "outputs": [],
   "source": [
    "# This snippet of code properly adds the working source root path to python's path\n",
    "# so you no longer have to install spykshrk through setuptools\n",
    "import sys, os \n",
    "root_depth = 2\n",
    "notebook_dir = globals()['_dh'][0]\n",
    "root_path = os.path.abspath(os.path.join(notebook_dir, '../'*root_depth))\n",
    "# Add to python's path\n",
    "try:\n",
    "    while True:\n",
    "        sys.path.remove(root_path)\n",
    "except ValueError:\n",
    "    # no more root paths\n",
    "    pass\n",
    "sys.path.append(root_path)\n",
    "# Alternatively set root path as current working directory\n",
    "#os.chdir(root_path)\n"
   ]
  },
  {
   "cell_type": "code",
   "execution_count": 2,
   "metadata": {},
   "outputs": [],
   "source": [
    "import numpy as np\n",
    "import scipy as sp\n",
    "import pandas as pd\n",
    "import functools\n",
    "import itertools\n",
    "import holoviews as hv\n",
    "from holoviews import dim, opts\n",
    "import enum\n",
    "import IPython\n",
    "import warnings\n",
    "import torch\n",
    "import collections\n",
    "\n",
    "from IPython.utils.text import columnize\n",
    "from IPython.lib.pretty import pprint, pretty\n",
    "from IPython.display import display_html\n",
    "\n",
    "# Spykshrk modules for data analysis\n",
    "from spykshrk.franklab.data_containers import FlatLinearPosition, SpikeFeatures, \\\n",
    "        EncodeSettings, pos_col_format, SpikeObservation, Posteriors\n",
    "from spykshrk.franklab.generator.place.spike_generator import UnitNormalGenerator, TetrodeUniformUnitNormalGenerator\n",
    "from spykshrk.franklab.generator.place.pos_generator import WtrackPosConstSimulator\n",
    "from spykshrk.franklab.pp_decoder.util import normal_pdf_int_lookup, gaussian\n",
    "from spykshrk.franklab.pp_decoder.pp_clusterless import OfflinePPEncoder, OfflinePPLikelihood, OfflinePPPosterior, OfflinePPDecoder, OfflinePPIndicatorPosterior\n",
    "from spykshrk.franklab.pp_decoder.wtrack_mapping import WtrackLinposDecomposer, WtrackLinposRecomposer\n",
    "from spykshrk.franklab.pp_decoder.visualization import DecodeVisualizer, WtrackLinposVisualizer, DecodeStepVisualizer, MultiDecodeStepVisualizer\n",
    "from spykshrk.franklab.visualization import LinPosVisualizer, TetrodeVisualizer\n",
    "from spykshrk.franklab.pp_decoder.util import apply_no_anim_boundary\n",
    "from spykshrk.franklab.wtrack import WtrackArm, Direction, Order, Rotation\n",
    "from spykshrk.util import AttrDict, AttrDictEnum\n",
    "\n",
    "hv.extension('bokeh')\n",
    "hv.extension('matplotlib')\n",
    "\n",
    "hv.renderer('bokeh').theme = \"dark_minimal\"\n",
    "import matplotlib.pyplot as plt\n",
    "plt.style.use('dark_background')\n",
    "plt.rcParams['figure.facecolor'] = 'black'\n",
    "plt.rcParams['figure.constrained_layout.use'] = False\n",
    "plt.rcParams['xtick.major.pad'] = 3.5\n",
    "plt.rcParams['ytick.major.pad'] = 10\n",
    "plt.rcParams['axes.formatter.limits'] = [-5,5]\n",
    "\n",
    "pd.set_option('display.precision', 4)\n",
    "pd.set_option('display.max_rows', 10)\n",
    "pd.set_option('display.max_columns', 15)\n",
    "\n",
    "plain_formatter = get_ipython().display_formatter.formatters['text/plain']\n",
    "plain_formatter.max_width=160\n",
    "plain_formatter.max_seq_length=20\n",
    "\n",
    "np.set_printoptions(precision=4, linewidth=80, threshold=20, edgeitems=5)"
   ]
  },
  {
   "cell_type": "code",
   "execution_count": 3,
   "metadata": {},
   "outputs": [],
   "source": [
    "class InconsistentDataWarning(Warning):\n",
    "    pass"
   ]
  },
  {
   "cell_type": "code",
   "execution_count": 4,
   "metadata": {},
   "outputs": [],
   "source": [
    "# Encoding and decoding settings for both simulator and algorithm\n",
    "\n",
    "encode_settings = AttrDict({'sampling_rate': 1000,\n",
    "                            'pos_sampling_rate': 30,\n",
    "                            'pos_bins': np.arange(0,800,1),\n",
    "                            'pos_bin_edges': np.arange(0,800.1,1),\n",
    "                            'pos_bin_delta': 1,\n",
    "                            'pos_kernel': sp.stats.norm.pdf(np.arange(0,800,1), 400, 2),\n",
    "                            'pos_kernel_std': 2, \n",
    "                            'mark_kernel_std': int(5), \n",
    "                            'pos_num_bins': 800,\n",
    "                            'pos_col_names': [pos_col_format(ii, 800) for ii in range(800)],\n",
    "                            'arm_coordinates': [[0, 100], [100, 250], [250,400], [400, 500], [500, 650], [650, 800]],\n",
    "                            'wtrack_arm_coordinates': AttrDictEnum({WtrackArm.center: \n",
    "                                                                    AttrDictEnum({Direction.outbound: AttrDictEnum(x1=0, x2=100, len=100), \n",
    "                                                                                  Direction.inbound: AttrDictEnum(x1=400, x2=500, len=100)}),\n",
    "                                                                    WtrackArm.left: \n",
    "                                                                    AttrDictEnum({Direction.outbound: AttrDictEnum(x1=100, x2=250, len=150),\n",
    "                                                                                  Direction.inbound: AttrDictEnum(x1=250, x2=400, len=150)}),\n",
    "                                                                    WtrackArm.right: \n",
    "                                                                    AttrDictEnum({Direction.outbound: AttrDictEnum(x1=500, x2=650, len=150),\n",
    "                                                                                  Direction.inbound: AttrDictEnum(x1=650, x2=800, len=150)})}),\n",
    "                            'vel': 3,\n",
    "                            'spk_amp': 60})\n",
    "\n",
    "decode_settings = AttrDict({'trans_smooth_std': 5,\n",
    "                            'trans_uniform_gain': 0.001,\n",
    "                            'time_bin_size': 10})\n",
    "                            "
   ]
  },
  {
   "cell_type": "code",
   "execution_count": 5,
   "metadata": {},
   "outputs": [],
   "source": [
    "wtrack_pos_const_sim = WtrackPosConstSimulator(trial_time=10, num_series=3, encode_settings=encode_settings)\n",
    "linpos_flat = wtrack_pos_const_sim.linpos_flat"
   ]
  },
  {
   "cell_type": "code",
   "execution_count": 6,
   "metadata": {},
   "outputs": [],
   "source": [
    "hv.output(backend='matplotlib')\n",
    "plt.style.use('dark_background')\n",
    "plt.rcParams['figure.facecolor'] = 'black'\n",
    "\n",
    "wtrack_viz = WtrackLinposVisualizer(linpos_flat, encode_settings)\n",
    "wtrack_viz.plot"
   ]
  },
  {
   "cell_type": "code",
   "execution_count": 7,
   "metadata": {},
   "outputs": [],
   "source": [
    "wtrack_decomposed = WtrackLinposDecomposer(linpos_flat, encode_settings)"
   ]
  },
  {
   "cell_type": "code",
   "execution_count": 8,
   "metadata": {},
   "outputs": [],
   "source": [
    "wtrack_decomposed.decomp_linpos"
   ]
  },
  {
   "cell_type": "code",
   "execution_count": 9,
   "metadata": {},
   "outputs": [],
   "source": [
    "tet_gen = TetrodeUniformUnitNormalGenerator(sampling_rate=encode_settings.sampling_rate,\n",
    "                                            num_marks=4,\n",
    "                                            num_units=200,\n",
    "                                            mark_mean_range=(60, 600),\n",
    "                                            mark_cov_range=(50, 120),\n",
    "                                            firing_rate_range=(10, 60),\n",
    "                                            pos_field_range=wtrack_decomposed.simple_main_armcoord_cw,\n",
    "                                            pos_field_bins=wtrack_decomposed.simple_main_armcoord_bins_cw,\n",
    "                                            pos_field_var_range=(2,10))"
   ]
  },
  {
   "cell_type": "code",
   "execution_count": 10,
   "metadata": {},
   "outputs": [],
   "source": [
    "resample_decomp_linpos = wtrack_decomposed.decomp_linpos.get_resampled(1)\n",
    "\n",
    "spk_amps, unit_spks = tet_gen.simulate_tetrode_over_pos(resample_decomp_linpos, col_name='linpos_cw')\n",
    "spk_amps_prev, unit_spks_prev = tet_gen.simulate_tetrode_over_pos(resample_decomp_linpos, col_name='linpos_cw_prev')\n",
    "spk_amps_next, unit_spks_next = tet_gen.simulate_tetrode_over_pos(resample_decomp_linpos, col_name='linpos_cw_next')"
   ]
  },
  {
   "cell_type": "code",
   "execution_count": 11,
   "metadata": {},
   "outputs": [],
   "source": [
    "spk_amps = spk_amps.append([spk_amps_prev, spk_amps_next]).sort_index(level='timestamp')"
   ]
  },
  {
   "cell_type": "code",
   "execution_count": 12,
   "metadata": {},
   "outputs": [],
   "source": [
    "\n",
    "tet_viz = TetrodeVisualizer(spk_amps, linpos_flat.get_irregular_resampled(spk_amps), unit_spks)\n",
    "#tet_viz.plot_color_3d_dynamic('linpos_cw', 'c00', 'c01')\n",
    "tet_viz.plot_color_3d_dynamic('linpos_flat', 'c00', 'c01')"
   ]
  },
  {
   "cell_type": "code",
   "execution_count": 13,
   "metadata": {},
   "outputs": [],
   "source": [
    "spks_linpos = linpos_flat.get_irregular_resampled(spk_amps).join(spk_amps)\n",
    "spk_linpos_outbound = spks_linpos.query('direction==@Direction.outbound', engine='python')\n",
    "spk_linpos_inbound = spks_linpos.query('direction==@Direction.inbound', engine='python')"
   ]
  },
  {
   "cell_type": "code",
   "execution_count": 14,
   "metadata": {},
   "outputs": [],
   "source": [
    "class WtrackPPInOutEncoder:\n",
    "    \n",
    "    def __init__(self, wtrack_decomposed, enc_spk_amps, dec_spk_amps, encode_settings, decode_settings, chunk_size, cuda, norm):\n",
    "        self.wtrack_decomposed = wtrack_decomposed\n",
    "        self.enc_spk_amps = enc_spk_amps\n",
    "        self.dec_spk_amps = dec_spk_amps\n",
    "        self.encode_settings = encode_settings\n",
    "        self.decode_settings = decode_settings\n",
    "        self.chunk_size = chunk_size\n",
    "        self.cuda = cuda\n",
    "        self.norm = norm\n",
    "        \n",
    "        self.recomposed_encoder_in = None\n",
    "        self.recomposed_encoder_out = None\n",
    "        \n",
    "        self.linpos_outbound = self.wtrack_decomposed.decomp_linpos.query('direction==@Direction.outbound', engine='python')\n",
    "        self.linpos_inbound = self.wtrack_decomposed.decomp_linpos.query('direction==@Direction.inbound', engine='python')\n",
    "        self.spks_linpos = self.wtrack_decomposed.decomp_linpos.get_irregular_resampled(self.enc_spk_amps).join(self.enc_spk_amps)\n",
    "        self.spks_linpos_outbound = self.spks_linpos.query('direction==@Direction.outbound', engine='python')\n",
    "        self.spks_linpos_outbound = self.spks_linpos_outbound.drop(columns=self.wtrack_decomposed.decomp_linpos.columns)\n",
    "        self.spks_linpos_inbound = self.spks_linpos.query('direction==@Direction.inbound', engine='python')\n",
    "        self.spks_linpos_inbound = self.spks_linpos_inbound.drop(columns=self.wtrack_decomposed.decomp_linpos.columns)\n",
    "        \n",
    "    def run_encoder(self):\n",
    "        self.recomposed_encoder_out = WtrackPPInOutEncoder.create_recomposed_encoder(decomp_linpos = self.linpos_outbound, \n",
    "                                                                                     enc_spk_amp = self.spks_linpos_outbound,\n",
    "                                                                                     dec_spk_amp = self.dec_spk_amps,\n",
    "                                                                                     wtrack_decomposed = self.wtrack_decomposed,\n",
    "                                                                                     encode_settings = self.encode_settings,\n",
    "                                                                                     decode_settings = self.decode_settings,\n",
    "                                                                                     chunk_size = self.chunk_size,\n",
    "                                                                                     cuda = self.cuda,\n",
    "                                                                                     norm = self.norm)\n",
    "        \n",
    "        self.recomposed_encoder_in = WtrackPPInOutEncoder.create_recomposed_encoder(decomp_linpos = self.linpos_inbound, \n",
    "                                                                                    enc_spk_amp = self.spks_linpos_inbound,\n",
    "                                                                                    dec_spk_amp = self.dec_spk_amps,\n",
    "                                                                                    wtrack_decomposed = self.wtrack_decomposed,\n",
    "                                                                                    encode_settings = self.encode_settings,\n",
    "                                                                                    decode_settings = self.decode_settings,\n",
    "                                                                                    chunk_size = self.chunk_size,\n",
    "                                                                                    cuda = self.cuda,\n",
    "                                                                                    norm = self.norm)\n",
    "        \n",
    "    @staticmethod\n",
    "    def create_recomposed_encoder(decomp_linpos, enc_spk_amp, dec_spk_amp, wtrack_decomposed, encode_settings, decode_settings, chunk_size=10000, cuda=True, norm=True):\n",
    "        encoder_cw = OfflinePPEncoder(linpos=decomp_linpos, enc_spk_amp=enc_spk_amp, dec_spk_amp=dec_spk_amp, \n",
    "                                      encode_settings=wtrack_decomposed.encode_settings_decomp, decode_settings=decode_settings,\n",
    "                                      linpos_col_name='linpos_cw', chunk_size=chunk_size, cuda=cuda, norm=norm)\n",
    "        encoder_ccw = OfflinePPEncoder(linpos=decomp_linpos, enc_spk_amp=enc_spk_amp, dec_spk_amp=dec_spk_amp, \n",
    "                                       encode_settings=wtrack_decomposed.encode_settings_decomp, decode_settings=decode_settings,\n",
    "                                       linpos_col_name  ='linpos_ccw', chunk_size=chunk_size, cuda=cuda, norm=norm)\n",
    "        observ_cw = encoder_cw.run_encoder()\n",
    "        observ_ccw = encoder_ccw.run_encoder()\n",
    "        \n",
    "        recomposed = WtrackLinposRecomposer(encoder_cw, encoder_ccw, wtrack_decomposed, encode_settings)\n",
    "        \n",
    "        return recomposed\n",
    "        "
   ]
  },
  {
   "cell_type": "code",
   "execution_count": 15,
   "metadata": {},
   "outputs": [],
   "source": [
    "%%time\n",
    "\n",
    "multi_encoder = WtrackPPInOutEncoder(wtrack_decomposed, spk_amps, spk_amps, encode_settings, decode_settings, 15000, cuda=True, norm=False)\n"
   ]
  },
  {
   "cell_type": "code",
   "execution_count": 16,
   "metadata": {},
   "outputs": [],
   "source": [
    "%%time\n",
    "\n",
    "multi_encoder.run_encoder()"
   ]
  },
  {
   "cell_type": "code",
   "execution_count": 17,
   "metadata": {},
   "outputs": [],
   "source": [
    "hv.output(backend='bokeh', size=90)\n",
    "\n",
    "#from matplotlib.ticker import ScalarFormatter\n",
    "#xfmt = ScalarFormatter()\n",
    "#xfmt.set_powerlimits((0,0))\n",
    "#xfmt.set_scientific(True)\n",
    "\n",
    "if hv.Store.current_backend == 'bokeh':\n",
    "    import bokeh.models.formatters\n",
    "    yfmt = bokeh.models.formatters.BasicTickFormatter(precision=1, power_limit_high=0, power_limit_low=0)\n",
    "elif hv.Store.current_backend == 'matplotlib':\n",
    "    yfmt = None\n",
    "\n",
    "observ_ex = multi_encoder.recomposed_encoder_in.encoder_cw.observ_obj\n",
    "encode_settings_decomp = multi_encoder.wtrack_decomposed.encode_settings_decomp\n",
    "\n",
    "# Setup plot to visualize estimated position distribution\n",
    "sel_distrib = observ_ex.loc[:, pos_col_format(0,encode_settings_decomp.pos_num_bins):         \n",
    "                            pos_col_format(encode_settings_decomp.pos_num_bins-1,\n",
    "                                           encode_settings_decomp.pos_num_bins)]\n",
    "    \n",
    "sel_pos = observ_ex.loc[:, 'position']\n",
    "max_prob = sel_distrib.max().max()\n",
    "\n",
    "num_plot = 20\n",
    "\n",
    "def plot_observ(ind):\n",
    "    plot_list = []\n",
    "    max_dist = sel_distrib.iloc[ind:ind+num_plot].max().max()\n",
    "    for ii in range(num_plot):\n",
    "        sel = sel_distrib.iloc[ind+ii]\n",
    "        plot_list.append(hv.Curve(sel).options(framewise=True, xlim=(0, None), ylim=(0, max_dist), yformatter=yfmt))\n",
    "        #plot_list.append(hv.Curve(sel, extents=(0,0,encode_settings_decomp.pos_num_bins,max_dist)).opts(ylim=(0, max_dist)))\n",
    "        plot_list.append(hv.Points((sel_pos.iloc[ind+ii], [max_dist/10])))\n",
    "    return hv.Overlay(plot_list).opts(aspect=3)\n",
    "        \n",
    "dmap = hv.DynamicMap(plot_observ, kdims=['ind'])\n",
    "dmap.redim.values(ind=list(range(0, len(observ_ex)-num_plot, num_plot)))"
   ]
  },
  {
   "cell_type": "code",
   "execution_count": 18,
   "metadata": {},
   "outputs": [],
   "source": [
    "class ForwardReverseDecoder:\n",
    "    \n",
    "    def __init__(self, observ, trans_mat, prob_no_spike, encode_settings, decode_settings, time_bin_size):\n",
    "        self.observ = observ\n",
    "        self.trans_mat = trans_mat\n",
    "        self.prob_no_spike = prob_no_spike\n",
    "        self.encode_settings = encode_settings\n",
    "        self.decode_settings = decode_settings\n",
    "        self.time_bin_size = time_bin_size\n",
    "        \n",
    "        self.posterior_forward = None\n",
    "        self.posterior_reverse = None\n",
    "        \n",
    "        self.trans_forward = np.triu(self.trans_mat)\n",
    "        self.trans_forward /= self.trans_forward.sum()\n",
    "        self.trans_reverse = np.tril(self.trans_mat)\n",
    "        self.trans_reverse /= self.trans_reverse.sum()\n",
    "        \n",
    "        self.decoder_forward = OfflinePPDecoder(observ_obj=self.observ, trans_mat=self.trans_forward, \n",
    "                                                prob_no_spike=self.prob_no_spike, encode_settings=self.encode_settings,\n",
    "                                                decode_settings=self.decode_settings, time_bin_size=self.time_bin_size)\n",
    "        self.decoder_reverse = OfflinePPDecoder(observ_obj=self.observ, trans_mat=self.trans_reverse, \n",
    "                                                prob_no_spike=self.prob_no_spike, encode_settings=self.encode_settings,\n",
    "                                                decode_settings=self.decode_settings, time_bin_size=self.time_bin_size)\n",
    "    \n",
    "    def run_decoder(self):\n",
    "        self.posterior_forward = self.decoder_forward.run_decoder()\n",
    "        self.posterior_reverse = self.decoder_reverse.run_decoder()\n"
   ]
  },
  {
   "cell_type": "code",
   "execution_count": 19,
   "metadata": {},
   "outputs": [],
   "source": [
    "time_bin_size = 10\n",
    "\n",
    "decoder = ForwardReverseDecoder(observ=multi_encoder.recomposed_encoder_in.observ, trans_mat=multi_encoder.recomposed_encoder_in.trans_mat,\n",
    "                                prob_no_spike=multi_encoder.recomposed_encoder_in.prob_no_spike, encode_settings=multi_encoder.encode_settings,\n",
    "                                decode_settings=decode_settings, time_bin_size=time_bin_size)\n",
    "decoder.run_decoder()"
   ]
  },
  {
   "cell_type": "code",
   "execution_count": 20,
   "metadata": {},
   "outputs": [],
   "source": [
    "class WtrackPPDecoder:\n",
    "    def __init__(self, in_out_encoder, chunk_size=None, cuda=None):\n",
    "        self.in_out_encoder = in_out_encoder\n",
    "        self.wtrack_decomposed = self.in_out_encoder.wtrack_decomposed\n",
    "        self.encode_settings = self.in_out_encoder.encode_settings\n",
    "        self.decode_settings = self.in_out_encoder.decode_settings\n",
    "        if chunk_size:\n",
    "            self.chunk_size = chunk_size\n",
    "        else:\n",
    "            self.chunk_size = self.in_out_encoder.chunk_size\n",
    "        if cuda:\n",
    "            self.cuda = cuda\n",
    "        else:\n",
    "            self.cuda = self.in_out_encoder.cuda\n",
    "        \n",
    "        self.encoder_in = self.in_out_encoder.recomposed_encoder_in\n",
    "        self.encoder_out = self.in_out_encoder.recomposed_encoder_out\n",
    "        \n",
    "        self.trans_in_forward = np.triu(self.encoder_in.trans_mat)\n",
    "        self.trans_in_forward /= self.trans_in_forward.sum()\n",
    "        self.trans_in_reverse = np.tril(self.encoder_in.trans_mat)\n",
    "        self.trans_in_reverse /= self.trans_in_reverse.sum()\n",
    "        self.trans_out_forward = np.triu(self.encoder_out.trans_mat)\n",
    "        self.trans_out_forward /= self.trans_out_forward.sum()\n",
    "        self.trans_out_reverse = np.tril(self.encoder_out.trans_mat)\n",
    "        self.trans_out_reverse /= self.trans_out_reverse.sum()\n",
    "        \n",
    "        self.like_cls_in = OfflinePPLikelihood(observ=self.encoder_in.observ, trans_mat=self.encoder_in.trans_mat, prob_no_spike=self.encoder_in.prob_no_spike,\n",
    "                                               encode_settings=encode_settings, decode_settings=decode_settings, \n",
    "                                               time_bin_size=time_bin_size, dtype=np.float32)\n",
    "        self.like_in = None\n",
    "        self.like_cls_out = OfflinePPLikelihood(observ=self.encoder_out.observ, trans_mat=self.encoder_out.trans_mat, prob_no_spike=self.encoder_out.prob_no_spike,\n",
    "                                                encode_settings=encode_settings, decode_settings=decode_settings, \n",
    "                                                time_bin_size=time_bin_size, dtype=np.float32)\n",
    "        self.like_out = None\n",
    "        \n",
    "        self.indicator_states = AttrDict({})\n",
    "        \n",
    "    def calc(self):\n",
    "        self._calc_like()\n",
    "        self._prepare_post()\n",
    "        self._calc_post()\n",
    "        \n",
    "    def _calc_like(self):\n",
    "        self.like_in = self.like_cls_in.calc()\n",
    "        self.like_out = self.like_cls_out.calc()\n",
    "        \n",
    "    def _prepare_post(self):\n",
    "        self.indicator_states[0] = AttrDict({'name': 'inbound, forward', 'observ': self.encoder_in.observ, 'linpos': self.encoder_in.linpos, \n",
    "                                             'likelihoods': self.like_in, 'trans_mat': self.trans_in_forward,\n",
    "                                             'prob_no_spike': self.encoder_in.prob_no_spike})\n",
    "        self.indicator_states[1] = AttrDict({'name': 'inbound, reverse', 'observ': self.encoder_in.observ, 'linpos': self.encoder_in.linpos, \n",
    "                                             'likelihoods': self.like_in, 'trans_mat': self.trans_in_reverse, \n",
    "                                             'prob_no_spike': self.encoder_in.prob_no_spike})\n",
    "        self.indicator_states[2] = AttrDict({'name': 'outbound, forward', 'observ': self.encoder_out.observ, 'linpos': self.encoder_out.linpos, \n",
    "                                             'likelihoods': self.like_out, 'trans_mat': self.trans_out_forward,\n",
    "                                             'prob_no_spike': self.encoder_out.prob_no_spike})\n",
    "        self.indicator_states[3] = AttrDict({'name': 'outbound, reverse', 'observ': self.encoder_out.observ, 'linpos': self.encoder_out.linpos, \n",
    "                                             'likelihoods': self.like_out, 'trans_mat': self.trans_out_reverse, \n",
    "                                             'prob_no_spike': self.encoder_out.prob_no_spike})\n",
    "        \n",
    "    def _calc_post(self):\n",
    "        self.post_indicator_cls = OfflinePPIndicatorPosterior(indicator_states=self.indicator_states, encode_settings=self.encode_settings, \n",
    "                                                              decode_settings=self.decode_settings, cuda=False, dtype=np.float32)\n",
    "        self.post_indicator_cls.calc()"
   ]
  },
  {
   "cell_type": "code",
   "execution_count": 21,
   "metadata": {},
   "outputs": [],
   "source": [
    "wtrack_decoder = WtrackPPDecoder(multi_encoder)\n",
    "wtrack_decoder._calc_like()"
   ]
  },
  {
   "cell_type": "code",
   "execution_count": 22,
   "metadata": {},
   "outputs": [],
   "source": [
    "wtrack_decoder._prepare_post()\n",
    "wtrack_decoder._calc_post()"
   ]
  },
  {
   "cell_type": "code",
   "execution_count": 23,
   "metadata": {},
   "outputs": [],
   "source": [
    "wtrack_decoder.post_indicator_cls.indicator_posts[3].get_posterior().get_distribution_view().sum(axis=1)"
   ]
  },
  {
   "cell_type": "code",
   "execution_count": 24,
   "metadata": {},
   "outputs": [],
   "source": [
    "post_plot = wtrack_decoder.post_indicator_cls.indicator_posts[3].get_posterior()\n",
    "\n",
    "hv.output(backend='bokeh', size=200)\n",
    "\n",
    "dec_viz = DecodeVisualizer(post_plot, linpos=linpos_flat, enc_settings=encode_settings, heatmap_max=0.15)\n",
    "\n",
    "dmap = dec_viz.plot_all_dynamic(stream=hv.streams.RangeXY())\n",
    "\n",
    "dmap.opts(aspect=3, frame_width=600)\n",
    "\n",
    "dmap"
   ]
  },
  {
   "cell_type": "code",
   "execution_count": 25,
   "metadata": {},
   "outputs": [],
   "source": [
    "hv.output(backend='bokeh', size=16)\n",
    "multi_dec_viz = MultiDecodeStepVisualizer(indicator_states=wtrack_decoder.indicator_states, encode_settings=wtrack_decoder.encode_settings, decode_settings=wtrack_decoder.decode_settings)\n",
    "multi_dec_viz.plot_all()"
   ]
  },
  {
   "cell_type": "code",
   "execution_count": 29,
   "metadata": {},
   "outputs": [],
   "source": [
    "hv.output(backend='bokeh', size=30)\n",
    "\n",
    "decoder_in = wtrack_decoder.indicator_states[0]\n",
    "step_viz = DecodeStepVisualizer(decoder_in.observ, decoder_in.likelihoods, decoder_in.posteriors, multi_encoder.linpos_inbound, encode_settings, decode_settings)\n",
    "\n",
    "step_viz.plot_all()"
   ]
  }
 ],
 "metadata": {
  "git": {
   "suppress_outputs": true
  },
  "kernelspec": {
   "display_name": "Python 3",
   "language": "python",
   "name": "python3"
  },
  "language_info": {
   "codemirror_mode": {
    "name": "ipython",
    "version": 3
   },
   "file_extension": ".py",
   "mimetype": "text/x-python",
   "name": "python",
   "nbconvert_exporter": "python",
   "pygments_lexer": "ipython3",
   "version": "3.7.3"
  }
 },
 "nbformat": 4,
 "nbformat_minor": 4
}