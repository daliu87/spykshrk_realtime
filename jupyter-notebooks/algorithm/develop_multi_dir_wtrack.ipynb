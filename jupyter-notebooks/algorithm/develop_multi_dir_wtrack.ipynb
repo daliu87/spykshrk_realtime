{
 "cells": [
  {
   "cell_type": "code",
   "execution_count": 1,
   "metadata": {},
   "outputs": [],
   "source": [
    "# This snippet of code properly adds the working source root path to python's path\n",
    "# so you no longer have to install spykshrk through setuptools\n",
    "import sys, os \n",
    "root_depth = 2\n",
    "notebook_dir = globals()['_dh'][0]\n",
    "root_path = os.path.abspath(os.path.join(notebook_dir, '../'*root_depth))\n",
    "# Add to python's path\n",
    "try:\n",
    "    while True:\n",
    "        sys.path.remove(root_path)\n",
    "except ValueError:\n",
    "    # no more root paths\n",
    "    pass\n",
    "sys.path.append(root_path)\n",
    "# Alternatively set root path as current working directory\n",
    "#os.chdir(root_path)"
   ]
  },
  {
   "cell_type": "code",
   "execution_count": 2,
   "metadata": {},
   "outputs": [],
   "source": [
    "import numpy as np\n",
    "import scipy as sp\n",
    "import pandas as pd\n",
    "import functools\n",
    "import itertools\n",
    "import holoviews as hv\n",
    "from holoviews import dim, opts\n",
    "import enum\n",
    "import IPython\n",
    "import warnings\n",
    "import torch\n",
    "\n",
    "from IPython.utils.text import columnize\n",
    "from IPython.lib.pretty import pprint, pretty\n",
    "from IPython.display import display_html\n",
    "\n",
    "# Spykshrk modules for data analysis\n",
    "from spykshrk.franklab.data_containers import FlatLinearPosition, SpikeFeatures, \\\n",
    "        EncodeSettings, pos_col_format, SpikeObservation\n",
    "from spykshrk.franklab.generator.place.spike_generator import UnitNormalGenerator, TetrodeUniformUnitNormalGenerator\n",
    "from spykshrk.franklab.generator.place.pos_generator import WtrackPosConstSimulator\n",
    "from spykshrk.franklab.pp_decoder.util import normal_pdf_int_lookup, gaussian\n",
    "from spykshrk.franklab.pp_decoder.pp_clusterless import OfflinePPEncoder, OfflinePPDecoder\n",
    "from spykshrk.franklab.pp_decoder.wtrack_mapping import WtrackLinposDecomposer, WtrackLinposRecomposer\n",
    "from spykshrk.franklab.pp_decoder.visualization import DecodeVisualizer, WtrackLinposVisualizer\n",
    "from spykshrk.franklab.visualization import LinPosVisualizer, TetrodeVisualizer\n",
    "from spykshrk.franklab.pp_decoder.util import apply_no_anim_boundary\n",
    "from spykshrk.util import AttrDict, AttrDictEnum\n",
    "from spykshrk.franklab.wtrack import WtrackArm, Direction, Order, Rotation\n",
    "\n",
    "\n",
    "hv.extension('bokeh')\n",
    "hv.extension('matplotlib')\n",
    "\n",
    "hv.renderer('bokeh').theme = \"dark_minimal\"\n",
    "import matplotlib.pyplot as plt\n",
    "plt.style.use('dark_background')\n",
    "plt.rcParams['figure.facecolor'] = 'black'\n",
    "\n",
    "pd.set_option('display.precision', 4)\n",
    "pd.set_option('display.max_rows', 10)\n",
    "pd.set_option('display.max_columns', 15)\n",
    "\n",
    "plain_formatter = get_ipython().display_formatter.formatters['text/plain']\n",
    "plain_formatter.max_width=160\n",
    "\n",
    "np.set_printoptions(precision=4, linewidth=120)"
   ]
  },
  {
   "cell_type": "code",
   "execution_count": 3,
   "metadata": {},
   "outputs": [],
   "source": [
    "class InconsistentDataWarning(Warning):\n",
    "    pass"
   ]
  },
  {
   "cell_type": "code",
   "execution_count": 4,
   "metadata": {},
   "outputs": [],
   "source": [
    "# Encoding and decoding settings for both simulator and algorithm\n",
    "\n",
    "encode_settings = AttrDict({'sampling_rate': 1000,\n",
    "                            'pos_bins': np.arange(0,800,1),\n",
    "                            'pos_bin_edges': np.arange(0,800.1,1),\n",
    "                            'pos_bin_delta': 1,\n",
    "                            'pos_kernel': sp.stats.norm.pdf(np.arange(0,800,1), 400, 3),\n",
    "                            'pos_kernel_std': 3, \n",
    "                            'mark_kernel_std': int(20), \n",
    "                            'pos_num_bins': 800,\n",
    "                            'pos_col_names': [pos_col_format(ii, 800) for ii in range(800)],\n",
    "                            'arm_coordinates': [[0, 100], [100, 250], [250,400], [400, 500], [500, 650], [650, 800]],\n",
    "                            'wtrack_arm_coordinates': AttrDictEnum({WtrackArm.center: \n",
    "                                                                    AttrDictEnum({Direction.outbound: AttrDictEnum(x1=0, x2=100, len=100), \n",
    "                                                                                  Direction.inbound: AttrDictEnum(x1=400, x2=500, len=100)}),\n",
    "                                                                    WtrackArm.left: \n",
    "                                                                    AttrDictEnum({Direction.outbound: AttrDictEnum(x1=100, x2=250, len=150),\n",
    "                                                                                  Direction.inbound: AttrDictEnum(x1=250, x2=400, len=150)}),\n",
    "                                                                    WtrackArm.right: \n",
    "                                                                    AttrDictEnum({Direction.outbound: AttrDictEnum(x1=500, x2=650, len=150),\n",
    "                                                                                  Direction.inbound: AttrDictEnum(x1=650, x2=800, len=150)})}),\n",
    "                            'vel': 3,\n",
    "                            'spk_amp': 60})\n",
    "\n",
    "decode_settings = AttrDict({'trans_smooth_std': 5,\n",
    "                            'trans_uniform_gain': 0.001,\n",
    "                            'time_bin_size': 10})\n",
    "                            "
   ]
  },
  {
   "cell_type": "code",
   "execution_count": 5,
   "metadata": {},
   "outputs": [],
   "source": [
    "wtrack_pos_const_sim = WtrackPosConstSimulator(trial_time=10, num_series=3, encode_settings=encode_settings)\n",
    "linpos_flat = wtrack_pos_const_sim.linpos_flat"
   ]
  },
  {
   "cell_type": "code",
   "execution_count": 6,
   "metadata": {},
   "outputs": [],
   "source": [
    "hv.output(backend='matplotlib')\n",
    "plt.style.use('dark_background')\n",
    "plt.rcParams['figure.facecolor'] = 'black'\n",
    "\n",
    "wtrack_viz = WtrackLinposVisualizer(linpos_flat, encode_settings)\n",
    "wtrack_viz.plot"
   ]
  },
  {
   "cell_type": "code",
   "execution_count": 7,
   "metadata": {},
   "outputs": [],
   "source": [
    "wtrack_decomposed = WtrackLinposDecomposer(linpos_flat, encode_settings)"
   ]
  },
  {
   "cell_type": "code",
   "execution_count": 8,
   "metadata": {},
   "outputs": [],
   "source": [
    "hv.output(backend='matplotlib')\n",
    "hv.Scatter(wtrack_decomposed.decomp_linpos['linpos_cw']).opts(aspect=1, fig_size=400)"
   ]
  },
  {
   "cell_type": "code",
   "execution_count": 9,
   "metadata": {},
   "outputs": [],
   "source": [
    "wtrack_decomposed.decomp_linpos"
   ]
  },
  {
   "cell_type": "code",
   "execution_count": 10,
   "metadata": {},
   "outputs": [],
   "source": [
    "encode_settings_decomp = AttrDict(encode_settings)\n",
    "encode_settings_decomp.pos_num_bins = wtrack_decomposed.armcoord_cw_num_bins\n",
    "encode_settings_decomp.pos_col_names=pos_col_format(range(encode_settings_decomp.pos_num_bins),\n",
    "                                                    encode_settings_decomp.pos_num_bins)\n",
    "encode_settings_decomp.pos_bins = np.arange(0, encode_settings_decomp.pos_num_bins)\n",
    "encode_settings_decomp.pos_bin_edges = np.arange(0, encode_settings_decomp.pos_num_bins + 0.0001, 1)\n",
    "encode_settings_decomp.pos_kernel_std = 3\n",
    "encode_settings_decomp.pos_kernel = sp.stats.norm.pdf(np.arange(0, encode_settings_decomp.pos_num_bins, 1), \n",
    "                                                      encode_settings_decomp.pos_num_bins/2, \n",
    "                                                      encode_settings_decomp.pos_kernel_std)\n",
    "encode_settings_decomp.pos_col_names = pos_col_format(range(encode_settings_decomp.pos_num_bins), \n",
    "                                                      encode_settings_decomp.pos_num_bins) \n",
    "encode_settings_decomp.arm_coordinates = wtrack_decomposed.simple_armcoord_cw\n",
    "encode_settings_decomp.wtrack_decomp_arm_coordinates = wtrack_decomposed.wtrack_armcoord_cw\n"
   ]
  },
  {
   "cell_type": "code",
   "execution_count": 11,
   "metadata": {},
   "outputs": [],
   "source": [
    "tet_gen = TetrodeUniformUnitNormalGenerator(sampling_rate=encode_settings.sampling_rate,\n",
    "                                            num_marks=4,\n",
    "                                            num_units=200,\n",
    "                                            mark_mean_range=(60, 200),\n",
    "                                            mark_cov_range=(20, 40),\n",
    "                                            firing_rate_range=(5, 40),\n",
    "                                            pos_field_range=wtrack_decomposed.simple_main_armcoord_cw,\n",
    "                                            pos_field_bins=wtrack_decomposed.simple_main_armcoord_bins_cw,\n",
    "                                            pos_field_var_range=(2,10))"
   ]
  },
  {
   "cell_type": "code",
   "execution_count": 12,
   "metadata": {},
   "outputs": [],
   "source": [
    "spk_amps, unit_spks = tet_gen.simulate_tetrode_over_pos(wtrack_decomposed.decomp_linpos, col_name='linpos_cw')"
   ]
  },
  {
   "cell_type": "code",
   "execution_count": 13,
   "metadata": {},
   "outputs": [],
   "source": [
    "tet_viz = TetrodeVisualizer(spk_amps, wtrack_decomposed.decomp_linpos, unit_spks)\n",
    "tet_viz.plot_color_3d_dynamic('linpos_cw', 'c00', 'c01')"
   ]
  },
  {
   "cell_type": "code",
   "execution_count": 14,
   "metadata": {},
   "outputs": [],
   "source": [
    "%%time\n",
    "#%%prun -r -s cumulative\n",
    "\n",
    "# Setup encoding model and estimate the position distribution of each spike being encoded\n",
    "encoder_cw = OfflinePPEncoder(linflat=wtrack_decomposed.decomp_linpos, enc_spk_amp=spk_amps, dec_spk_amp=spk_amps, \n",
    "                              encode_settings=encode_settings_decomp, decode_settings=decode_settings,\n",
    "                              linflat_col_name='linpos_cw', chunk_size=15000, cuda=True)\n",
    "encoder_ccw = OfflinePPEncoder(linflat=wtrack_decomposed.decomp_linpos, enc_spk_amp=spk_amps, dec_spk_amp=spk_amps, \n",
    "                               encode_settings=encode_settings_decomp, decode_settings=decode_settings,\n",
    "                               linflat_col_name='linpos_ccw', chunk_size=15000, cuda=True)\n",
    "observ_cw = encoder_cw.run_encoder()\n",
    "observ_ccw = encoder_ccw.run_encoder()\n"
   ]
  },
  {
   "cell_type": "code",
   "execution_count": 15,
   "metadata": {},
   "outputs": [],
   "source": [
    "hv.output(backend='matplotlib')\n",
    "\n",
    "# Setup plot to visualize estimated position distribution\n",
    "sel_distrib = observ_cw.loc[:, pos_col_format(0,encode_settings_decomp.pos_num_bins):         \n",
    "                            pos_col_format(encode_settings_decomp.pos_num_bins-1,\n",
    "                                           encode_settings_decomp.pos_num_bins)]\n",
    "    \n",
    "sel_pos = observ_cw.loc[:, 'position']\n",
    "max_prob = sel_distrib.max().max()\n",
    "    \n",
    "def plot_observ(ind):\n",
    "    plot_list = []\n",
    "    for ii in range(5):\n",
    "        plot_list.append(hv.Curve(sel_distrib.iloc[ind+ii], extents=(0, 0, 2050, max_prob)))\n",
    "        plot_list.append(hv.Points((sel_pos.iloc[ind+ii], [0.005])))\n",
    "    return hv.Overlay(plot_list).opts(fig_size=400, aspect=3)\n",
    "        \n",
    "dmap = hv.DynamicMap(plot_observ, kdims=['ind'])\n",
    "dmap.redim.values(ind=list(range(0, len(observ_cw)-5, 5)))"
   ]
  },
  {
   "cell_type": "code",
   "execution_count": null,
   "metadata": {},
   "outputs": [],
   "source": [
    "def decomposed_pos_remap_to_wtrack(pos, decomposed_armcoord, wtrack_armcoord):\n",
    "    wtrack_pos = np.empty(pos.shape)\n",
    "    wtrack_pos.fill(np.nan)\n",
    "    for arm_k, arm_v in decomposed_armcoord.items():\n",
    "        for direct_k, direct_v in arm_v.items():\n",
    "            dir_pos_ind = (pos >= direct_v.main.x1) & (pos <= direct_v.main.x2)\n",
    "            wtrack_dir_pos = pos[dir_pos_ind] - direct_v.main.x1 + wtrack_armcoord[arm_k][direct_k].x1\n",
    "            wtrack_pos[dir_pos_ind] = wtrack_dir_pos\n",
    "    \n",
    "    if np.isnan(wtrack_pos).any():\n",
    "        warnings.warn('Position in decomposed main coordinate system does not match wtrack coordinates.', InconsistentDataWarning)\n",
    "        \n",
    "    return wtrack_pos"
   ]
  },
  {
   "cell_type": "code",
   "execution_count": null,
   "metadata": {},
   "outputs": [],
   "source": [
    "wtrack_recomposed = WtrackLinposRecomposer(encoder_cw, encoder_ccw, wtrack_decomposed, encode_settings)"
   ]
  },
  {
   "cell_type": "code",
   "execution_count": null,
   "metadata": {},
   "outputs": [],
   "source": [
    "hv.output(backend='bokeh')\n",
    "hv.Image(np.flip(wtrack_recomposed.trans_mat, axis=0), bounds=(0, 0, 800, 800)).opts(invert_yaxis=True)\n"
   ]
  },
  {
   "cell_type": "code",
   "execution_count": null,
   "metadata": {},
   "outputs": [],
   "source": [
    "hv.Image(np.flip(np.triu(wtrack_recomposed.trans_mat), axis=0), bounds=(0, 0, 800, 800)).opts(invert_yaxis=True)\n"
   ]
  },
  {
   "cell_type": "code",
   "execution_count": null,
   "metadata": {},
   "outputs": [],
   "source": [
    "hv.output(backend='matplotlib')\n",
    "\n",
    "# Setup plot to visualize estimated position distribution\n",
    "sel_distrib = wtrack_recomposed.observ.loc[:, pos_col_format(0,encode_settings.pos_num_bins):         \n",
    "                                           pos_col_format(encode_settings.pos_num_bins-1,\n",
    "                                                          encode_settings.pos_num_bins)]\n",
    "    \n",
    "sel_pos = wtrack_recomposed.observ.loc[:, 'position']\n",
    "max_prob = sel_distrib.max().max()\n",
    "\n",
    "def plot_observ(ind):\n",
    "    plot_list = []\n",
    "    for ii in range(5):\n",
    "        plot_list.append(hv.Curve(sel_distrib.iloc[ind+ii], extents=(0, 0, 800, max_prob)))\n",
    "        plot_list.append(hv.Points((sel_pos.iloc[ind+ii], [0.005])))\n",
    "    return hv.Overlay(plot_list).opts(fig_size=400, aspect=3)\n",
    "        \n",
    "dmap = hv.DynamicMap(plot_observ, kdims=['ind'])\n",
    "dmap.redim.values(ind=list(range(0, len(sel_distrib), 5)))"
   ]
  },
  {
   "cell_type": "code",
   "execution_count": null,
   "metadata": {},
   "outputs": [],
   "source": [
    "%%time\n",
    "# Run PP decoding algorithm\n",
    "time_bin_size = 10\n",
    "\n",
    "decoder = OfflinePPDecoder(observ_obj=wtrack_recomposed.observ, trans_mat=wtrack_recomposed.trans_mat, \n",
    "                           prob_no_spike=wtrack_recomposed.prob_no_spike,\n",
    "                           encode_settings=encode_settings, decode_settings=decode_settings, \n",
    "                           time_bin_size=time_bin_size)\n",
    "\n",
    "posteriors = decoder.run_decoder()"
   ]
  },
  {
   "cell_type": "code",
   "execution_count": null,
   "metadata": {},
   "outputs": [],
   "source": [
    "#%%output backend='bokeh' size=300 holomap='scrubber'\n",
    "#%%opts RGB { +framewise} [height=100 width=350]\n",
    "#%%opts Points (marker='o' color='#AAAAFF' size=1 alpha=0.05)\n",
    "#%%opts Polygons (color='grey', alpha=0.3 fill_color='grey' fill_alpha=0.3)\n",
    "#%%opts Image {+framewise}\n",
    "hv.output(backend='bokeh')\n",
    "\n",
    "dec_viz = DecodeVisualizer(posteriors.fillna(0), linpos=linpos_flat, enc_settings=encode_settings, heatmap_max=0.15)\n",
    "\n",
    "dmap = dec_viz.plot_all_dynamic(stream=hv.streams.RangeXY())\n",
    "\n",
    "dmap.opts(aspect=3, frame_width=600)\n",
    "\n",
    "dmap"
   ]
  },
  {
   "cell_type": "code",
   "execution_count": null,
   "metadata": {},
   "outputs": [],
   "source": []
  }
 ],
 "metadata": {
  "git": {
   "suppress_outputs": true
  },
  "kernelspec": {
   "display_name": "Python 3",
   "language": "python",
   "name": "python3"
  },
  "language_info": {
   "codemirror_mode": {
    "name": "ipython",
    "version": 3
   },
   "file_extension": ".py",
   "mimetype": "text/x-python",
   "name": "python",
   "nbconvert_exporter": "python",
   "pygments_lexer": "ipython3",
   "version": "3.7.3"
  }
 },
 "nbformat": 4,
 "nbformat_minor": 4
}