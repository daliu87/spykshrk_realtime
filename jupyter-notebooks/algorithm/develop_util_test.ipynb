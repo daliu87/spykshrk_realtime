{
 "cells": [
  {
   "cell_type": "code",
   "execution_count": 1,
   "metadata": {},
   "outputs": [],
   "source": [
    "# This snippet of code properly adds the working source root path to python's path\n",
    "# so you no longer have to install spykshrk through setuptools\n",
    "import sys, os\n",
    "root_depth = 2\n",
    "notebook_dir = globals()['_dh'][0]\n",
    "root_path = os.path.abspath(os.path.join(notebook_dir, '../'*root_depth))\n",
    "# Add to python's path\n",
    "try:\n",
    "    while True:\n",
    "        sys.path.remove(root_path)\n",
    "except ValueError:\n",
    "    # no more root paths\n",
    "    pass\n",
    "sys.path.append(root_path)\n",
    "# Alternatively set root path as current working directory\n",
    "#os.chdir(root_path)"
   ]
  },
  {
   "cell_type": "code",
   "execution_count": 3,
   "metadata": {},
   "outputs": [],
   "source": [
    "import enum\n",
    "import collections\n",
    "import copy\n",
    "\n",
    "import numpy as np\n",
    "\n",
    "from spykshrk.util import AttrDict, AttrDictEnum\n",
    "\n",
    "plain_formatter = get_ipython().display_formatter.formatters['text/plain']\n",
    "plain_formatter.max_width=160\n",
    "\n",
    "np.set_printoptions(precision=4, linewidth=120)"
   ]
  },
  {
   "cell_type": "code",
   "execution_count": 4,
   "metadata": {},
   "outputs": [],
   "source": [
    "class Test(enum.Enum):\n",
    "    one = 1\n",
    "    two = 2\n",
    "\n",
    "attr = AttrDictEnum({Test.one: 10, Test.two: 20})\n",
    "\n",
    "attr_copy = copy.deepcopy(attr)"
   ]
  },
  {
   "cell_type": "code",
   "execution_count": 5,
   "metadata": {},
   "outputs": [],
   "source": [
    "attr_copy['test'] = 'more'"
   ]
  },
  {
   "cell_type": "code",
   "execution_count": 6,
   "metadata": {},
   "outputs": [
    {
     "data": {
      "text/plain": [
       "{Test.one: 10, Test.two: 20 }"
      ]
     },
     "execution_count": 6,
     "metadata": {},
     "output_type": "execute_result"
    }
   ],
   "source": [
    "attr_copy.asdf = 'asdf'\n",
    "attr"
   ]
  },
  {
   "cell_type": "code",
   "execution_count": 7,
   "metadata": {},
   "outputs": [
    {
     "data": {
      "text/plain": [
       "({WtrackArm.center: {Direction.outbound: {x1: 0, x2: 100, len: 100 }, Direction.inbound: {x1: 400, x2: 500, len: 100 } },\n",
       "  WtrackArm.left: {Direction.outbound: {x1: 100, x2: 250, len: 150 }, Direction.inbound: {x1: 250, x2: 400, len: 150 } },\n",
       "  WtrackArm.right: {Direction.outbound: {x1: 500, x2: 650, len: 150 }, Direction.inbound: {x1: 650, x2: 800, len: 150 } }\n",
       "  },)"
      ]
     },
     "execution_count": 7,
     "metadata": {},
     "output_type": "execute_result"
    }
   ],
   "source": [
    "class WtrackArm(enum.Enum):\n",
    "    center = 1\n",
    "    left = 2\n",
    "    right = 3\n",
    "    \n",
    "class Direction(enum.Enum):\n",
    "    outbound = 1\n",
    "    inbound =2\n",
    "\n",
    "AttrDictEnum({WtrackArm.center: \n",
    "              AttrDictEnum({Direction.outbound: AttrDictEnum(x1=0, x2=100, len=100), \n",
    "                            Direction.inbound: AttrDictEnum(x1=400, x2=500, len=100)}),\n",
    "              WtrackArm.left: \n",
    "              AttrDictEnum({Direction.outbound: AttrDictEnum(x1=100, x2=250, len=150),\n",
    "                            Direction.inbound: AttrDictEnum(x1=250, x2=400, len=150)}),\n",
    "              WtrackArm.right: \n",
    "              AttrDictEnum({Direction.outbound: AttrDictEnum(x1=500, x2=650, len=150),\n",
    "                            Direction.inbound: AttrDictEnum(x1=650, x2=800, len=150)})}),"
   ]
  },
  {
   "cell_type": "code",
   "execution_count": null,
   "metadata": {},
   "outputs": [],
   "source": []
  }
 ],
 "metadata": {
  "kernelspec": {
   "display_name": "Python 3",
   "language": "python",
   "name": "python3"
  },
  "language_info": {
   "codemirror_mode": {
    "name": "ipython",
    "version": 3
   },
   "file_extension": ".py",
   "mimetype": "text/x-python",
   "name": "python",
   "nbconvert_exporter": "python",
   "pygments_lexer": "ipython3",
   "version": "3.7.3"
  }
 },
 "nbformat": 4,
 "nbformat_minor": 4
}
