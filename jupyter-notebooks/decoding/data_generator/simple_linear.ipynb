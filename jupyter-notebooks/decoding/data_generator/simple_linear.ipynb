{
 "cells": [
  {
   "cell_type": "code",
   "execution_count": 1,
   "metadata": {},
   "outputs": [],
   "source": [
    "# This snippet of code properly adds the working source root path to python's path\n",
    "# so you no longer have to install spykshrk through setuptools\n",
    "import sys, os\n",
    "root_depth = 3\n",
    "notebook_dir = globals()['_dh'][0]\n",
    "root_path = os.path.abspath(os.path.join(notebook_dir, '../'*root_depth))\n",
    "# Add to python's path\n",
    "try:\n",
    "    while True:\n",
    "        sys.path.remove(root_path)\n",
    "except ValueError:\n",
    "    # no more root paths\n",
    "    pass\n",
    "sys.path.append(root_path)\n",
    "# Alternatively set root path as current working directory\n",
    "#os.chdir(root_path)"
   ]
  },
  {
   "cell_type": "code",
   "execution_count": 30,
   "metadata": {},
   "outputs": [],
   "source": [
    "import numpy as np\n",
    "import scipy as sp\n",
    "import pandas as pd\n",
    "import functools\n",
    "import holoviews as hv\n",
    "from holoviews import dim, opts\n",
    "\n",
    "# Spykshrk modules for data analysis\n",
    "from spykshrk.franklab.data_containers import FlatLinearPosition, SpikeFeatures, \\\n",
    "        EncodeSettings, pos_col_format, SpikeObservation\n",
    "from spykshrk.franklab.generator.place.spike_generator import UnitNormalGenerator, TetrodeUniformUnitNormalGenerator\n",
    "from spykshrk.franklab.pp_decoder.util import normal_pdf_int_lookup, gaussian\n",
    "from spykshrk.franklab.pp_decoder.pp_clusterless import OfflinePPEncoder, OfflinePPDecoder\n",
    "from spykshrk.franklab.pp_decoder.visualization import DecodeVisualizer\n",
    "from spykshrk.franklab.visualization import LinPosVisualizer, TetrodeVisualizer\n",
    "from spykshrk.util import AttrDict\n",
    "\n",
    "hv.extension('bokeh')\n",
    "hv.extension('matplotlib')\n",
    "\n",
    "hv.renderer('bokeh').theme = \"dark_minimal\"\n",
    "import matplotlib.pyplot as plt\n",
    "plt.style.use('dark_background')\n",
    "plt.rcParams['figure.facecolor'] = 'black'"
   ]
  },
  {
   "cell_type": "code",
   "execution_count": 3,
   "metadata": {},
   "outputs": [],
   "source": [
    "# Encoding and decoding settings for both simulator and algorithm\n",
    "encode_settings = AttrDict({'sampling_rate': 1000,\n",
    "                            'pos_bins': np.arange(0,100,1),\n",
    "                            'pos_bin_edges': np.arange(0,100.1,1),\n",
    "                            'pos_bin_delta': 1,\n",
    "                            'pos_kernel': sp.stats.norm.pdf(np.arange(0,100,1), 50, 1),\n",
    "                            'pos_kernel_std': 1, \n",
    "                            'mark_kernel_std': int(20), \n",
    "                            'pos_num_bins': 100,\n",
    "                            'pos_col_names': [pos_col_format(ii, 100) for ii in range(100)],\n",
    "                            'arm_coordinates': [[0,100]],\n",
    "                            'vel': 3,\n",
    "                            'spk_amp': 60})\n",
    "\n",
    "decode_settings = AttrDict({'trans_smooth_std': 5,\n",
    "                            'trans_uniform_gain': 0.001,\n",
    "                            'time_bin_size': 10})\n",
    "                            "
   ]
  },
  {
   "cell_type": "code",
   "execution_count": 4,
   "metadata": {},
   "outputs": [],
   "source": [
    "tet_gen = TetrodeUniformUnitNormalGenerator(sampling_rate=encode_settings.sampling_rate,\n",
    "                                            num_marks=4,\n",
    "                                            num_units=50,\n",
    "                                            mark_mean_range=(60, 200),\n",
    "                                            mark_cov_range=(20, 40),\n",
    "                                            firing_rate_range=(5, 40),\n",
    "                                            pos_field_range=(0, 100),\n",
    "                                            pos_field_var_range=(2,10))"
   ]
  },
  {
   "cell_type": "code",
   "execution_count": 80,
   "metadata": {},
   "outputs": [],
   "source": [
    "\n",
    "sampling_rate = 1000\n",
    "\n",
    "# Simulate Synthetic Position Data\n",
    "# Animal runs back and forth between two points, pausing for a few seconds in the middle.\n",
    "pos_time = np.arange(0,100*1000,1)\n",
    "pos_run = 50*np.cos(pos_time[0:17272]/(500*np.pi))+50\n",
    "pos_run = np.append(pos_run, ([pos_run[-1]]*39478))\n",
    "pos_run = np.append(pos_run, 50*np.cos(pos_time[56750:4000*1000]/(500*np.pi))+50)\n",
    "pos_vel = np.concatenate([[0], np.diff(pos_run) * sampling_rate])\n",
    "\n",
    "pos_vel = np.concatenate([[0], np.diff(pos_run) * encode_settings.sampling_rate])\n",
    "\n",
    "linpos_flat_obj = FlatLinearPosition.from_numpy_single_epoch(1, 1, pos_time, pos_run, pos_vel, encode_settings.sampling_rate, \n",
    "                                                             encode_settings.arm_coordinates)\n"
   ]
  },
  {
   "cell_type": "code",
   "execution_count": 50,
   "metadata": {},
   "outputs": [],
   "source": []
  },
  {
   "cell_type": "code",
   "execution_count": 81,
   "metadata": {},
   "outputs": [],
   "source": [
    "hv.output(backend='bokeh')\n",
    "linpos_viz = LinPosVisualizer(linpos_flat_obj)\n",
    "linpos_viz.plot_linpos_flat()"
   ]
  },
  {
   "cell_type": "code",
   "execution_count": 36,
   "metadata": {},
   "outputs": [],
   "source": [
    "hv.Store.current_backend"
   ]
  },
  {
   "cell_type": "code",
   "execution_count": 6,
   "metadata": {},
   "outputs": [],
   "source": [
    "spk_amps, unit_spks = tet_gen.simulate_tetrode_over_pos(linpos_flat_obj)"
   ]
  },
  {
   "cell_type": "code",
   "execution_count": 47,
   "metadata": {},
   "outputs": [],
   "source": [
    "tet_viz = TetrodeVisualizer(spk_amps, linpos_flat_obj, unit_spks)\n",
    "tet_viz.plot_color_3d_dynamic('linpos_flat', 'c00', 'c01')"
   ]
  },
  {
   "cell_type": "code",
   "execution_count": 8,
   "metadata": {},
   "outputs": [],
   "source": [
    "tet_viz.plot_color_3d_dynamic('c00', 'c01', 'c02')"
   ]
  }
 ],
 "metadata": {
  "git": {
   "suppress_outputs": true
  },
  "kernelspec": {
   "display_name": "Python 3",
   "language": "python",
   "name": "python3"
  },
  "language_info": {
   "codemirror_mode": {
    "name": "ipython",
    "version": 3
   },
   "file_extension": ".py",
   "mimetype": "text/x-python",
   "name": "python",
   "nbconvert_exporter": "python",
   "pygments_lexer": "ipython3",
   "version": "3.7.3"
  }
 },
 "nbformat": 4,
 "nbformat_minor": 4
}