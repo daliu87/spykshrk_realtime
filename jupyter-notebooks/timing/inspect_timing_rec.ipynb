{
 "cells": [
  {
   "cell_type": "code",
   "execution_count": 1,
   "metadata": {},
   "outputs": [],
   "source": [
    "# This snippet of code properly adds the working source root path to python's path\n",
    "# so you no longer have to install spykshrk through setuptools\n",
    "import sys, os\n",
    "root_depth = 2\n",
    "notebook_dir = globals()['_dh'][0]\n",
    "root_path = os.path.abspath(os.path.join(notebook_dir, '../'*root_depth))\n",
    "# Add to python's path\n",
    "try:\n",
    "    while True:\n",
    "        sys.path.remove(root_path)\n",
    "except ValueError:\n",
    "    # no more root paths\n",
    "    pass\n",
    "sys.path.append(root_path)\n",
    "# Alternatively set root path as current working directory\n",
    "#os.chdir(root_path)"
   ]
  },
  {
   "cell_type": "code",
   "execution_count": 2,
   "metadata": {
    "collapsed": true
   },
   "outputs": [],
   "source": [
    "# import pandas as pd\n",
    "import sys\n",
    "import os.path\n",
    "import numpy as np\n",
    "import pandas as pd\n",
    "import json\n",
    "import matplotlib\n",
    "import matplotlib.pyplot as plt\n",
    "from spykshrk.realtime.datatypes import Datatypes\n",
    "\n",
    "# import bokeh.plotting\n",
    "# from bokeh.plotting import figure, output_notebook, show, gridplot, reset_output\n",
    "# output_notebook()\n",
    "\n",
    "#pd.set_option('float_format', '{:,.1f}'.format)\n",
    "pd.set_option('display.max_rows', 10)\n",
    "pd.set_option('display.width', 120)\n",
    "\n",
    "matplotlib.rcParams.update({'font.size': 28})\n"
   ]
  },
  {
   "cell_type": "code",
   "execution_count": 3,
   "metadata": {
    "collapsed": true
   },
   "outputs": [],
   "source": [
    "#config_file = '/opt/data36/daliu/realtime/spykshrk/timing/bond.config.json'\n",
    "#config_file = '/opt/data36/daliu/realtime/spykshrk/test/test_animal.config.json'\n",
    "\n",
    "config_file = '/opt/data36/daliu/realtime/spykshrk/dec_60uv_300samp/bond.config.json'\n",
    "\n",
    "config = json.load(open(config_file, 'r'))\n",
    "\n",
    "hdf_file = os.path.join(config['files']['output_dir'],\n",
    "                        '{}.rec_merged.h5'.format(config['files']['prefix']))\n",
    "\n",
    "store = pd.HDFStore(hdf_file, mode='r')\n",
    "timing = store['rec_100']"
   ]
  },
  {
   "cell_type": "code",
   "execution_count": 4,
   "metadata": {},
   "outputs": [],
   "source": [
    "timing['label'].unique()"
   ]
  },
  {
   "cell_type": "code",
   "execution_count": 5,
   "metadata": {
    "collapsed": true
   },
   "outputs": [],
   "source": [
    "# Select timing data only used for spike decoding\n",
    "\n",
    "spk_timing = timing.query(\"(label == 'sim_send' | \"\n",
    "                          \"label == 'spk_dec' | \"\n",
    "                          \"label == 'spk_enc' | \"\n",
    "                          \"label == 'dec_recv' | \"\n",
    "                          \"label == 'dec_proc') & \"\n",
    "                          \"datatype == {}\".format(Datatypes.SPIKES))\n"
   ]
  },
  {
   "cell_type": "code",
   "execution_count": 7,
   "metadata": {
    "collapsed": true
   },
   "outputs": [],
   "source": [
    "spk_timing_pivot = spk_timing.pivot_table(values='wtime_adj', index=['timestamp', 'elec_grp_id', 'datatype'], columns='label')\n",
    "\n",
    "# Drop timing info for spikes ignored by encoder and decoder nodes, likely because they did not meet\n",
    "# the encode or decode criterion.\n",
    "spk_timing_pivot = spk_timing_pivot.dropna(axis=0, how='any')\n"
   ]
  },
  {
   "cell_type": "code",
   "execution_count": 8,
   "metadata": {
    "scrolled": false
   },
   "outputs": [],
   "source": [
    "spk_timing_pivot"
   ]
  },
  {
   "cell_type": "code",
   "execution_count": 9,
   "metadata": {},
   "outputs": [],
   "source": [
    "%%time\n",
    "spk_timing_pivot.eval(\"sim_to_spkdec = spk_dec - sim_send\", inplace=True)\n",
    "spk_timing_pivot.eval(\"spkdec_to_enc = spk_enc - spk_dec\", inplace=True)\n",
    "spk_timing_pivot.eval(\"spkdec_to_decoder = dec_recv - spk_dec\", inplace=True)\n",
    "spk_timing_pivot.eval(\"sim_to_decoder = dec_recv - sim_send\", inplace=True)\n",
    "spk_timing_pivot.eval(\"sim_to_dec_proc = dec_proc - sim_send\", inplace=True)"
   ]
  },
  {
   "cell_type": "code",
   "execution_count": 10,
   "metadata": {
    "scrolled": false
   },
   "outputs": [],
   "source": [
    "spk_timing_pivot.query('sim_to_decoder > .1')"
   ]
  },
  {
   "cell_type": "code",
   "execution_count": 11,
   "metadata": {},
   "outputs": [],
   "source": [
    "sim_dec_proc_mean = spk_timing_pivot.loc[:, 'sim_to_dec_proc'].mean()\n",
    "sim_dec_proc_med = spk_timing_pivot.loc[:, 'sim_to_dec_proc'].median()\n",
    "sim_dec_proc_max = spk_timing_pivot.loc[:, 'sim_to_dec_proc'].max()\n",
    "sim_dec_proc_min = spk_timing_pivot.loc[:, 'sim_to_dec_proc'].min()\n",
    "\n",
    "sim_decoder_mean = spk_timing_pivot.loc[:, 'sim_to_decoder'].mean()\n",
    "sim_decoder_med = spk_timing_pivot.loc[:, 'sim_to_decoder'].median()\n",
    "sim_decoder_max = spk_timing_pivot.loc[:, 'sim_to_decoder'].max()\n",
    "sim_decoder_min = spk_timing_pivot.loc[:, 'sim_to_decoder'].min()\n",
    "\n",
    "sim_spkdec_mean = spk_timing_pivot.loc[:, 'sim_to_spkdec'].mean()\n",
    "sim_spkdec_med = spk_timing_pivot.loc[:, 'sim_to_spkdec'].median()\n",
    "sim_spkdec_max = spk_timing_pivot.loc[:, 'sim_to_spkdec'].max()\n",
    "sim_spkdec_min = spk_timing_pivot.loc[:, 'sim_to_spkdec'].min()\n",
    "\n",
    "spkdec_decoder_mean = spk_timing_pivot.loc[:, 'spkdec_to_decoder'].mean()\n",
    "spkdec_decoder_med = spk_timing_pivot.loc[:, 'spkdec_to_decoder'].median()\n",
    "spkdec_decoder_max = spk_timing_pivot.loc[:, 'spkdec_to_decoder'].max()\n",
    "spkdec_decoder_min = spk_timing_pivot.loc[:, 'spkdec_to_decoder'].min()\n",
    "\n",
    "print('sim_to_dec_proc mean (median) (min, max): {:.04} ({:.04}) ({:.04}, {:.04}) ms'.format(sim_dec_proc_mean*1000, sim_dec_proc_med*1000,\n",
    "                                                                                            sim_dec_proc_min*1000, sim_dec_proc_max*1000))\n",
    "print('sim_to_decoder mean (median) (min, max): {:.04} ({:.04}) ({:.04}, {:.04}) ms'.format(sim_decoder_mean*1000, sim_decoder_med*1000,\n",
    "                                                                                            sim_decoder_min*1000, sim_decoder_max*1000))\n",
    "print('sim_to_spkdec mean (median) (min, max): {:.04} ({:.04}) ({:.04}, {:.04}) ms'.format(sim_spkdec_mean*1000, sim_spkdec_med*1000, \n",
    "                                                                                        sim_spkdec_min*1000, sim_spkdec_max*1000))\n",
    "print('spkdec_to_decoder mean (median) (min, max): {:.04} ({:.04}) ({:.04}, {:.04}) ms'.format(spkdec_decoder_mean*1000, spkdec_decoder_med*1000,\n",
    "                                                                                           spkdec_decoder_min*1000, spkdec_decoder_max*1000))"
   ]
  },
  {
   "cell_type": "markdown",
   "metadata": {},
   "source": [
    "sim_to_decoder mean (median) (min, max): 1.604 (1.226) (-784.4, 96.27) ms\n",
    "\n",
    "sim_to_dec mean (median) (min, max): 1.545 (1.163) (-784.5, 789.8) ms\n",
    "\n",
    "dec_to_decoder mean (median) (min, max): 0.0591 (0.04697) (-784.9, 3.969) ms\n"
   ]
  },
  {
   "cell_type": "code",
   "execution_count": 12,
   "metadata": {},
   "outputs": [],
   "source": [
    "temp = spk_timing_pivot['spkdec_to_decoder']\n",
    "np.sum(np.diff(temp.values[0:10000]))"
   ]
  },
  {
   "cell_type": "code",
   "execution_count": 13,
   "metadata": {},
   "outputs": [],
   "source": [
    "spk_timing_pivot"
   ]
  },
  {
   "cell_type": "code",
   "execution_count": 14,
   "metadata": {},
   "outputs": [],
   "source": [
    "plt.plot(np.diff(spk_timing_pivot['dec_recv'].values))\n",
    "plt.xlim([0,100])\n",
    "plt.show()"
   ]
  },
  {
   "cell_type": "code",
   "execution_count": 15,
   "metadata": {},
   "outputs": [],
   "source": [
    "plt.figure(figsize=[40,10])\n",
    "plt.plot(spk_timing_pivot['spkdec_to_decoder'].values.transpose())\n",
    "#plt.xlim([0, 37000])\n",
    "#plt.ylim([-.001, .001])\n",
    "plt.grid(True)\n",
    "plt.show()"
   ]
  },
  {
   "cell_type": "code",
   "execution_count": 16,
   "metadata": {
    "scrolled": false
   },
   "outputs": [],
   "source": [
    "hist_range = (0, 5)\n",
    "hist_step = 0.005\n",
    "\n",
    "plt.figure(figsize=[20,10])\n",
    "plt.hist(spk_timing_pivot['sim_to_decoder']*1000, np.arange(hist_range[0], hist_range[1], hist_step), range=hist_range, histtype='step', lw=3, ec='blue')\n",
    "\n",
    "plt.hist(spk_timing_pivot['sim_to_spkdec']*1000, np.arange(hist_range[0], hist_range[1], hist_step), range=hist_range, histtype='step', lw=3, ec='cyan')\n",
    "\n",
    "plt.hist(spk_timing_pivot['sim_to_dec_proc']*1000, np.arange(hist_range[0], hist_range[1], hist_step), range=hist_range, histtype='step', lw=3, ec='orange')\n",
    "\n",
    "plt.show()\n"
   ]
  },
  {
   "cell_type": "code",
   "execution_count": 17,
   "metadata": {},
   "outputs": [],
   "source": [
    "fig, ax = plt.subplots(figsize=[20,10])\n",
    "ax.hist(spk_timing_pivot['sim_to_dec_proc']*1000, np.arange(hist_range[0], hist_range[1], 0.05),\n",
    "        range=hist_range, fc='cyan')\n",
    "plt.xlim([0,5])\n",
    "\n",
    "ax.text(0.8, 0.6, 'Mean: {:.02} ms\\nMedian: {:.02} ms'.format(np.mean(spk_timing_pivot['sim_to_dec_proc']*1000),\n",
    "                                                              np.median(spk_timing_pivot['sim_to_dec_proc']*1000)),\n",
    "        transform=ax.transAxes, horizontalalignment='right', bbox={'facecolor': 'white', 'pad':20})\n",
    "\n",
    "plt.xlabel('Milliseconds')\n",
    "plt.ylabel('Number of spikes')\n",
    "plt.title('Latency of single spikes from source to updating posterior', fontdict={'fontweight':'bold'})\n",
    "plt.show()"
   ]
  },
  {
   "cell_type": "code",
   "execution_count": 43,
   "metadata": {},
   "outputs": [],
   "source": [
    "print('Latency to update decoding process:\\n'\n",
    "      'Mean: {:0.03} ms\\nMedian: {:0.03} ms'.format(np.mean(spk_timing_pivot['sim_to_dec_proc']*1000), \n",
    "                                                  np.median(spk_timing_pivot['sim_to_dec_proc']*1000)))\n"
   ]
  }
 ],
 "metadata": {
  "git": {
   "suppress_outputs": true
  },
  "kernelspec": {
   "display_name": "Python 3",
   "language": "python",
   "name": "python3"
  },
  "language_info": {
   "codemirror_mode": {
    "name": "ipython",
    "version": 3
   },
   "file_extension": ".py",
   "mimetype": "text/x-python",
   "name": "python",
   "nbconvert_exporter": "python",
   "pygments_lexer": "ipython3",
   "version": "3.7.3"
  }
 },
 "nbformat": 4,
 "nbformat_minor": 2
}